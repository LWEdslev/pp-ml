{
 "cells": [
  {
   "cell_type": "code",
   "execution_count": 206,
   "id": "f52c685a",
   "metadata": {},
   "outputs": [],
   "source": [
    "import torch\n",
    "import torch.nn as nn\n",
    "import torch.optim as optim\n",
    "from torchvision import datasets, transforms\n",
    "from torch.utils.data import DataLoader\n",
    "import copy\n",
    "import os\n",
    "\n",
    "batch_size = 32\n",
    "learning_rate = 0.01\n",
    "epochs = 50\n",
    "\n",
    "transform = transforms.ToTensor()\n",
    "train_data = datasets.MNIST(root='./data', train=True, download=True, transform=transform)\n",
    "test_data = datasets.MNIST(root='./data', train=False, download=True, transform=transform)\n",
    "\n",
    "train_loader = DataLoader(train_data, batch_size=batch_size, shuffle=True)\n",
    "test_loader = DataLoader(test_data, batch_size=batch_size)\n"
   ]
  },
  {
   "cell_type": "code",
   "execution_count": 207,
   "id": "0c7eb713",
   "metadata": {},
   "outputs": [],
   "source": [
    "\n",
    "class SimpleNN(nn.Module):\n",
    "    def __init__(self):\n",
    "        super(SimpleNN, self).__init__()\n",
    "        self.flatten = nn.Flatten()\n",
    "        self.linear = nn.Linear(28*28, 10)\n",
    "\n",
    "    def forward(self, x):\n",
    "        x = self.flatten(x)\n",
    "        return self.linear(x)\n",
    "\n",
    "model = SimpleNN()"
   ]
  },
  {
   "cell_type": "code",
   "execution_count": null,
   "id": "1ad21851",
   "metadata": {},
   "outputs": [],
   "source": [
    "p = 1 << 31\n",
    "f = 1 << 8\n",
    "\n",
    "def encode_to_fixed_point(n):\n",
    "    return int(round(n * f))   \n",
    "\n",
    "def encode_to_field(n):\n",
    "    if n > 0:\n",
    "        return n % p\n",
    "    else:\n",
    "        return (p + n) % p\n",
    "    \n",
    "def encode(x):\n",
    "    return encode_to_field(encode_to_fixed_point(x))\n",
    "\n",
    "def field_scalar_vec_dot(m, x):\n",
    "    sum = 0\n",
    "    for e in m:\n",
    "        sum += (e * x) % p \n",
    "    return sum % p\n",
    "\n",
    "def decode_from_field(n):\n",
    "    if n < p/2:\n",
    "        return n\n",
    "    else:\n",
    "        return n - p\n",
    "    \n",
    "def decode_from_fixed_point(n):\n",
    "    return n / f"
   ]
  },
  {
   "cell_type": "code",
   "execution_count": 209,
   "id": "7d7635d9",
   "metadata": {},
   "outputs": [
    {
     "name": "stdout",
     "output_type": "stream",
     "text": [
      "Model loaded from file.\n"
     ]
    },
    {
     "name": "stderr",
     "output_type": "stream",
     "text": [
      "/tmp/ipykernel_412013/3417595001.py:7: FutureWarning: You are using `torch.load` with `weights_only=False` (the current default value), which uses the default pickle module implicitly. It is possible to construct malicious pickle data which will execute arbitrary code during unpickling (See https://github.com/pytorch/pytorch/blob/main/SECURITY.md#untrusted-models for more details). In a future release, the default value for `weights_only` will be flipped to `True`. This limits the functions that could be executed during unpickling. Arbitrary objects will no longer be allowed to be loaded via this mode unless they are explicitly allowlisted by the user via `torch.serialization.add_safe_globals`. We recommend you start setting `weights_only=True` for any use case where you don't have full control of the loaded file. Please open an issue on GitHub for any issues related to this experimental feature.\n",
      "  model.load_state_dict(torch.load(model_path))\n"
     ]
    }
   ],
   "source": [
    "\n",
    "criterion = nn.CrossEntropyLoss()\n",
    "optimizer = optim.AdamW(model.parameters(), lr=learning_rate)\n",
    "\n",
    "model_path = \"models/mnist.pth\"\n",
    "\n",
    "if os.path.exists(model_path):\n",
    "    model.load_state_dict(torch.load(model_path))\n",
    "    print(\"Model loaded from file.\")\n",
    "else:\n",
    "    criterion = nn.CrossEntropyLoss()\n",
    "    optimizer = optim.AdamW(model.parameters(), lr=learning_rate)\n",
    "\n",
    "    for epoch in range(epochs):\n",
    "        for images, labels in train_loader:\n",
    "            outputs = model(images)\n",
    "            loss = criterion(outputs, labels)\n",
    "\n",
    "            optimizer.zero_grad()\n",
    "            loss.backward()\n",
    "            optimizer.step()\n",
    "        print(f'Epoch [{epoch+1}/{epochs}], Loss: {loss.item():.4f}')\n",
    "\n",
    "    torch.save(model.state_dict(), model_path)\n",
    "    print(\"Model saved.\")\n",
    "    "
   ]
  },
  {
   "cell_type": "code",
   "execution_count": 210,
   "id": "2ca1f7a0",
   "metadata": {},
   "outputs": [
    {
     "name": "stdout",
     "output_type": "stream",
     "text": [
      "FieldLinear\n",
      "Accuracy: 87.80%\n",
      "CustomLinear\n",
      "Accuracy: 91.55%\n"
     ]
    }
   ],
   "source": [
    "class CustomLinear(nn.Module):\n",
    "    def __init__(self, linear):\n",
    "        super().__init__()\n",
    "        self.weight = linear.weight\n",
    "        self.bias = linear.bias\n",
    "        \n",
    "    def forward(self, x):\n",
    "        out = []\n",
    "        for sample in x:\n",
    "            sample_out = []\n",
    "            for w, b in zip(self.weight, self.bias):  \n",
    "                dot = (sample * w).sum() + b  \n",
    "                sample_out.append(dot)\n",
    "            out.append(torch.stack(sample_out))\n",
    "        return torch.stack(out)\n",
    "    \n",
    "class FieldLinear(nn.Module):\n",
    "    def __init__(self, linear):\n",
    "        super().__init__()\n",
    "        encoded_weight = torch.tensor([[encode(x.item()) for x in row] for row in linear.weight])\n",
    "        encoded_bias = torch.tensor([encode(x.item()) for x in linear.bias])\n",
    "        self.weight = encoded_weight\n",
    "        self.bias = encoded_bias\n",
    "        \n",
    "    def forward(self, x):\n",
    "        out = []\n",
    "        for sample in x:\n",
    "            encoded_sample = torch.tensor([encode(x.item()) for x in sample])\n",
    "            \n",
    "            sample_out = []\n",
    "            for w, b in zip(self.weight, self.bias):  \n",
    "                y_field = (torch.sum((w * encoded_sample) % p) + b) % p  \n",
    "                y_trunc = torch.round(decode_from_field(y_field) / f)\n",
    "                y = decode_from_fixed_point(y_trunc)\n",
    "                sample_out.append(y)\n",
    "            out.append(torch.stack(sample_out))\n",
    "        return torch.stack(out)\n",
    "    \n",
    "real_linear = copy.deepcopy(model.linear)\n",
    "model.linear = FieldLinear(real_linear)\n",
    "print('FieldLinear')\n",
    "correct = 0\n",
    "total = 0\n",
    "with torch.no_grad():\n",
    "    for images, labels in test_loader:\n",
    "        outputs = model(images)\n",
    "        _, predicted = torch.max(outputs.data, 1)\n",
    "        total += labels.size(0)\n",
    "        correct += (predicted == labels).sum().item()\n",
    "        \n",
    "print(f'Accuracy: {correct / total * 100:.2f}%')\n",
    "\n",
    "model.linear = CustomLinear(real_linear)\n",
    "print('CustomLinear')\n",
    "\n",
    "correct = 0\n",
    "total = 0\n",
    "with torch.no_grad():\n",
    "    for images, labels in test_loader:\n",
    "        outputs = model(images)\n",
    "        _, predicted = torch.max(outputs.data, 1)\n",
    "        total += labels.size(0)\n",
    "        correct += (predicted == labels).sum().item()\n",
    "\n",
    "print(f'Accuracy: {correct / total * 100:.2f}%')"
   ]
  }
 ],
 "metadata": {
  "kernelspec": {
   "display_name": "base",
   "language": "python",
   "name": "python3"
  },
  "language_info": {
   "codemirror_mode": {
    "name": "ipython",
    "version": 3
   },
   "file_extension": ".py",
   "mimetype": "text/x-python",
   "name": "python",
   "nbconvert_exporter": "python",
   "pygments_lexer": "ipython3",
   "version": "3.11.8"
  }
 },
 "nbformat": 4,
 "nbformat_minor": 5
}
