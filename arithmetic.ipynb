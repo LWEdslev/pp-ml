{
 "cells": [
  {
   "cell_type": "code",
   "execution_count": 1717,
   "id": "c7b9797e",
   "metadata": {},
   "outputs": [],
   "source": [
    "import math\n",
    "import random"
   ]
  },
  {
   "cell_type": "code",
   "execution_count": 1718,
   "id": "4bbe6494",
   "metadata": {},
   "outputs": [],
   "source": [
    "p = 1 << 61\n",
    "f = 1 << 10"
   ]
  },
  {
   "cell_type": "code",
   "execution_count": 1719,
   "id": "8735387c",
   "metadata": {},
   "outputs": [
    {
     "name": "stdout",
     "output_type": "stream",
     "text": [
      "60.090328357656595 -0.07699007939491864\n"
     ]
    }
   ],
   "source": [
    "m = random.random() * 100\n",
    "x = random.random() - 1\n",
    "print(m,x)\n",
    "expected = m * x\n",
    "\n",
    "def encode_to_fixed_point(n):\n",
    "    return int(round(n * f))   \n",
    "\n",
    "def encode_to_field(n):\n",
    "    if n > 0:\n",
    "        return n % p\n",
    "    else:\n",
    "        return (p + n) % p\n",
    "    \n",
    "m = encode_to_field(encode_to_fixed_point(m))\n",
    "x = encode_to_field(encode_to_fixed_point(x))"
   ]
  },
  {
   "cell_type": "code",
   "execution_count": 1720,
   "id": "1540e9ec",
   "metadata": {},
   "outputs": [
    {
     "name": "stdout",
     "output_type": "stream",
     "text": [
      "got -4.6357421875 expected -4.6263591511227125\n"
     ]
    }
   ],
   "source": [
    "y = (m * x) % p\n",
    "\n",
    "def decode_from_field(n):\n",
    "    if n < p/2:\n",
    "        return n\n",
    "    else:\n",
    "        return n - p\n",
    "    \n",
    "y_trunc = int(round(decode_from_field(y) / f)) \n",
    "    \n",
    "def decode_from_fixed_point(n):\n",
    "    return n / f\n",
    "\n",
    "print('got', decode_from_fixed_point(y_trunc), 'expected', expected)"
   ]
  },
  {
   "cell_type": "code",
   "execution_count": 1721,
   "id": "35448010",
   "metadata": {},
   "outputs": [],
   "source": [
    "m = [0.27107, -2.04749, 1.43319, 5.89909, -0.29756]\n",
    "x = 5.9461\n",
    "\n",
    "def scalar_vec_dot(m, x):\n",
    "    sum = 0\n",
    "    for i in range(len(m)):\n",
    "        sum += m[i] * x\n",
    "    return sum\n",
    "\n",
    "expected = scalar_vec_dot(m, x)"
   ]
  },
  {
   "cell_type": "code",
   "execution_count": null,
   "id": "0210e864",
   "metadata": {},
   "outputs": [
    {
     "name": "stdout",
     "output_type": "stream",
     "text": [
      "32789265\n",
      "got 31.2705078125 expected 31.266377629999997\n"
     ]
    }
   ],
   "source": [
    "def encode_vec_to_field(v):\n",
    "    l = []\n",
    "    for e in v:\n",
    "        l.append(encode_to_field(encode_to_fixed_point(e)))\n",
    "    return l\n",
    "\n",
    "def field_scalar_vec_dot(m, x):\n",
    "    sum = 0\n",
    "    for e in m:\n",
    "        sum += (e * x) % p \n",
    "    return sum % p\n",
    "\n",
    "m_f = encode_vec_to_field(m)\n",
    "x_f = encode_to_field(encode_to_fixed_point(x))\n",
    "y = field_scalar_vec_dot(m_f, x_f)\n",
    "#|sum(a*b)| < 2^(p-prec-1) \n",
    "\n",
    "y_trunc = int(round(decode_from_field(y) / f))\n",
    "print(y)\n",
    "print('Got', decode_from_fixed_point(y_trunc), 'expected', expected)"
   ]
  },
  {
   "cell_type": "code",
   "execution_count": 1723,
   "id": "204ccda9",
   "metadata": {},
   "outputs": [
    {
     "data": {
      "text/plain": [
       "1125899906842624"
      ]
     },
     "execution_count": 1723,
     "metadata": {},
     "output_type": "execute_result"
    }
   ],
   "source": [
    "def calculate_max_value(n, prec):\n",
    "    return 1 << (n-prec-1) \n",
    "\n",
    "calculate_max_value(61, 10)"
   ]
  }
 ],
 "metadata": {
  "kernelspec": {
   "display_name": "base",
   "language": "python",
   "name": "python3"
  },
  "language_info": {
   "codemirror_mode": {
    "name": "ipython",
    "version": 3
   },
   "file_extension": ".py",
   "mimetype": "text/x-python",
   "name": "python",
   "nbconvert_exporter": "python",
   "pygments_lexer": "ipython3",
   "version": "3.11.8"
  }
 },
 "nbformat": 4,
 "nbformat_minor": 5
}
